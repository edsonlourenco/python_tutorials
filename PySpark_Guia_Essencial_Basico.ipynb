{
  "nbformat": 4,
  "nbformat_minor": 0,
  "metadata": {
    "colab": {
      "name": "PySpark_Guia_Essencial_Basico.ipynb",
      "provenance": [],
      "authorship_tag": "ABX9TyNAaJXAZt/E84suPe9Sh3p/",
      "include_colab_link": true
    },
    "kernelspec": {
      "name": "python3",
      "display_name": "Python 3"
    },
    "language_info": {
      "name": "python"
    }
  },
  "cells": [
    {
      "cell_type": "markdown",
      "metadata": {
        "id": "view-in-github",
        "colab_type": "text"
      },
      "source": [
        "<a href=\"https://colab.research.google.com/github/edsonlourenco/python_tutorials/blob/main/PySpark_Guia_Essencial_Basico.ipynb\" target=\"_parent\"><img src=\"https://colab.research.google.com/assets/colab-badge.svg\" alt=\"Open In Colab\"/></a>"
      ]
    },
    {
      "cell_type": "markdown",
      "source": [
        "# PySpark | Guia essencial e básico | V1 | Edson Lourenço\n",
        "O objetivo desse material é introduzir o desenvolvedor no universo do **Apache Spark** com o **Python**."
      ],
      "metadata": {
        "id": "Y6wY9wV8m0EG"
      }
    },
    {
      "cell_type": "markdown",
      "source": [
        "## Instalando pacotes necessários"
      ],
      "metadata": {
        "id": "W8648tKVoFJw"
      }
    },
    {
      "cell_type": "code",
      "execution_count": 23,
      "metadata": {
        "id": "-KFiz143mzck"
      },
      "outputs": [],
      "source": [
        "from IPython.display import clear_output\n",
        "\n",
        "!pip install --upgrade pip\n",
        "!pip install findspark\n",
        "!pip install pyspark\n",
        "\n",
        "clear_output(wait=False) #limpa o output (saída)"
      ]
    },
    {
      "cell_type": "markdown",
      "source": [
        "## Importando pacotes necessários"
      ],
      "metadata": {
        "id": "O2SKxPXioaTZ"
      }
    },
    {
      "cell_type": "code",
      "source": [
        "import findspark, pyspark\n",
        "from pyspark.sql import SparkSession\n",
        "from pyspark import SparkFiles"
      ],
      "metadata": {
        "id": "x7LCC2c6oeHQ"
      },
      "execution_count": 24,
      "outputs": []
    },
    {
      "cell_type": "markdown",
      "source": [
        "## Obtendo instância do Spark"
      ],
      "metadata": {
        "id": "wdUeYugEpsqk"
      }
    },
    {
      "cell_type": "code",
      "source": [
        "findspark.init()\n",
        "spark = SparkSession.builder.getOrCreate()"
      ],
      "metadata": {
        "id": "geMbftf7p1d6"
      },
      "execution_count": 25,
      "outputs": []
    },
    {
      "cell_type": "markdown",
      "source": [
        "## Lendo fonte de dados do GitHub"
      ],
      "metadata": {
        "id": "ouU652sAp77w"
      }
    },
    {
      "cell_type": "code",
      "source": [
        "url = 'https://raw.githubusercontent.com/edsonlourenco/public_datasets/main/Carros.csv'\n",
        "spark.sparkContext.addFile(url)\n",
        "csv_cars = SparkFiles.get(\"Carros.csv\")\n",
        "df_cars = spark.read.csv(csv_cars, header=True, inferSchema=True, sep=';')"
      ],
      "metadata": {
        "id": "yjDOptiuqBCf"
      },
      "execution_count": 26,
      "outputs": []
    },
    {
      "cell_type": "markdown",
      "source": [
        "## Como exibo os dados?"
      ],
      "metadata": {
        "id": "4-4e7d7sqe9c"
      }
    },
    {
      "cell_type": "code",
      "source": [
        "df_cars.show(truncate=False)"
      ],
      "metadata": {
        "colab": {
          "base_uri": "https://localhost:8080/"
        },
        "id": "TXPAIXU0qkfB",
        "outputId": "54e0bdb8-e2bc-47e0-af55-fb8bcab39c88"
      },
      "execution_count": 27,
      "outputs": [
        {
          "output_type": "stream",
          "name": "stdout",
          "text": [
            "+-------+---------+-----------+---------------+----+-----+---------+-----------+-------+-----------+---+\n",
            "|Consumo|Cilindros|Cilindradas|RelEixoTraseiro|Peso|Tempo|TipoMotor|Transmissao|Marchas|Carburadors|HP |\n",
            "+-------+---------+-----------+---------------+----+-----+---------+-----------+-------+-----------+---+\n",
            "|21     |6        |160        |39             |262 |1646 |0        |1          |4      |4          |110|\n",
            "|21     |6        |160        |39             |2875|1702 |0        |1          |4      |4          |110|\n",
            "|228    |4        |108        |385            |232 |1861 |1        |1          |4      |1          |93 |\n",
            "|214    |6        |258        |308            |3215|1944 |1        |0          |3      |1          |110|\n",
            "|187    |8        |360        |315            |344 |1702 |0        |0          |3      |2          |175|\n",
            "|181    |6        |225        |276            |346 |2022 |1        |0          |3      |1          |105|\n",
            "|143    |8        |360        |321            |357 |1584 |0        |0          |3      |4          |245|\n",
            "|244    |4        |1467       |369            |319 |20   |1        |0          |4      |2          |62 |\n",
            "|228    |4        |1408       |392            |315 |229  |1        |0          |4      |2          |95 |\n",
            "|192    |6        |1676       |392            |344 |183  |1        |0          |4      |4          |123|\n",
            "|178    |6        |1676       |392            |344 |189  |1        |0          |4      |4          |123|\n",
            "|164    |8        |2758       |307            |407 |174  |0        |0          |3      |3          |180|\n",
            "|173    |8        |2758       |307            |373 |176  |0        |0          |3      |3          |180|\n",
            "|152    |8        |2758       |307            |378 |18   |0        |0          |3      |3          |180|\n",
            "|104    |8        |472        |293            |525 |1798 |0        |0          |3      |4          |205|\n",
            "|104    |8        |460        |3              |5424|1782 |0        |0          |3      |4          |215|\n",
            "|147    |8        |440        |323            |5345|1742 |0        |0          |3      |4          |230|\n",
            "|324    |4        |787        |408            |22  |1947 |1        |1          |4      |1          |66 |\n",
            "|304    |4        |757        |493            |1615|1852 |1        |1          |4      |2          |52 |\n",
            "|339    |4        |711        |422            |1835|199  |1        |1          |4      |1          |65 |\n",
            "+-------+---------+-----------+---------------+----+-----+---------+-----------+-------+-----------+---+\n",
            "only showing top 20 rows\n",
            "\n"
          ]
        }
      ]
    },
    {
      "cell_type": "markdown",
      "source": [
        "## Como contar total de linhas (rows)?"
      ],
      "metadata": {
        "id": "R0yE4qXVquXD"
      }
    },
    {
      "cell_type": "code",
      "source": [
        "df_cars.count()"
      ],
      "metadata": {
        "colab": {
          "base_uri": "https://localhost:8080/"
        },
        "id": "ncpo0AvJqmxo",
        "outputId": "4ee20ba9-06db-4344-be0c-25d679e130b1"
      },
      "execution_count": 28,
      "outputs": [
        {
          "output_type": "execute_result",
          "data": {
            "text/plain": [
              "32"
            ]
          },
          "metadata": {},
          "execution_count": 28
        }
      ]
    },
    {
      "cell_type": "markdown",
      "source": [
        "## Como seleciono os dados de uma coluna?"
      ],
      "metadata": {
        "id": "f2-vPpvzq29w"
      }
    },
    {
      "cell_type": "code",
      "source": [
        "df_cars.select(\"tempo\").show()"
      ],
      "metadata": {
        "colab": {
          "base_uri": "https://localhost:8080/"
        },
        "id": "H7jV-FggrNnA",
        "outputId": "65e2ba11-dde4-406e-910c-426ff75cc01e"
      },
      "execution_count": 29,
      "outputs": [
        {
          "output_type": "stream",
          "name": "stdout",
          "text": [
            "+-----+\n",
            "|tempo|\n",
            "+-----+\n",
            "| 1646|\n",
            "| 1702|\n",
            "| 1861|\n",
            "| 1944|\n",
            "| 1702|\n",
            "| 2022|\n",
            "| 1584|\n",
            "|   20|\n",
            "|  229|\n",
            "|  183|\n",
            "|  189|\n",
            "|  174|\n",
            "|  176|\n",
            "|   18|\n",
            "| 1798|\n",
            "| 1782|\n",
            "| 1742|\n",
            "| 1947|\n",
            "| 1852|\n",
            "|  199|\n",
            "+-----+\n",
            "only showing top 20 rows\n",
            "\n"
          ]
        }
      ]
    },
    {
      "cell_type": "markdown",
      "source": [
        "## Como seleciono os dados de certas colunas?"
      ],
      "metadata": {
        "id": "D8u4X3gzrYIl"
      }
    },
    {
      "cell_type": "code",
      "source": [
        "cols = ['Cilindros', 'Cilindradas', 'HP', 'Peso']\n",
        "df_cars.select(cols).show()"
      ],
      "metadata": {
        "colab": {
          "base_uri": "https://localhost:8080/"
        },
        "id": "G6bY1ns4rUrL",
        "outputId": "94d3bed5-6500-4ab5-b4aa-dc005687b9e3"
      },
      "execution_count": 30,
      "outputs": [
        {
          "output_type": "stream",
          "name": "stdout",
          "text": [
            "+---------+-----------+---+----+\n",
            "|Cilindros|Cilindradas| HP|Peso|\n",
            "+---------+-----------+---+----+\n",
            "|        6|        160|110| 262|\n",
            "|        6|        160|110|2875|\n",
            "|        4|        108| 93| 232|\n",
            "|        6|        258|110|3215|\n",
            "|        8|        360|175| 344|\n",
            "|        6|        225|105| 346|\n",
            "|        8|        360|245| 357|\n",
            "|        4|       1467| 62| 319|\n",
            "|        4|       1408| 95| 315|\n",
            "|        6|       1676|123| 344|\n",
            "|        6|       1676|123| 344|\n",
            "|        8|       2758|180| 407|\n",
            "|        8|       2758|180| 373|\n",
            "|        8|       2758|180| 378|\n",
            "|        8|        472|205| 525|\n",
            "|        8|        460|215|5424|\n",
            "|        8|        440|230|5345|\n",
            "|        4|        787| 66|  22|\n",
            "|        4|        757| 52|1615|\n",
            "|        4|        711| 65|1835|\n",
            "+---------+-----------+---+----+\n",
            "only showing top 20 rows\n",
            "\n"
          ]
        }
      ]
    },
    {
      "cell_type": "markdown",
      "source": [
        "## Como ordeno por uma coluna?"
      ],
      "metadata": {
        "id": "yn-7bcjmrnBV"
      }
    },
    {
      "cell_type": "code",
      "source": [
        "cols = ['Cilindros', 'Cilindradas', 'HP', 'Peso']\n",
        "df_cars.orderBy(\"peso\").select(cols).show()"
      ],
      "metadata": {
        "colab": {
          "base_uri": "https://localhost:8080/"
        },
        "id": "F6q8cgE3rgPj",
        "outputId": "6b6ce9b7-5840-4d13-eb4e-5bcb33a10acd"
      },
      "execution_count": 31,
      "outputs": [
        {
          "output_type": "stream",
          "name": "stdout",
          "text": [
            "+---------+-----------+---+----+\n",
            "|Cilindros|Cilindradas| HP|Peso|\n",
            "+---------+-----------+---+----+\n",
            "|        4|        787| 66|  22|\n",
            "|        4|       1203| 91| 214|\n",
            "|        4|        108| 93| 232|\n",
            "|        6|        160|110| 262|\n",
            "|        6|        145|175| 277|\n",
            "|        4|        121|109| 278|\n",
            "|        4|       1408| 95| 315|\n",
            "|        8|        351|264| 317|\n",
            "|        4|       1467| 62| 319|\n",
            "|        6|       1676|123| 344|\n",
            "|        6|       1676|123| 344|\n",
            "|        8|        360|175| 344|\n",
            "|        6|        225|105| 346|\n",
            "|        8|        318|150| 352|\n",
            "|        8|        360|245| 357|\n",
            "|        8|        301|335| 357|\n",
            "|        8|       2758|180| 373|\n",
            "|        8|       2758|180| 378|\n",
            "|        8|        350|245| 384|\n",
            "|        8|       2758|180| 407|\n",
            "+---------+-----------+---+----+\n",
            "only showing top 20 rows\n",
            "\n"
          ]
        }
      ]
    },
    {
      "cell_type": "markdown",
      "source": [
        "## Como agrupo?"
      ],
      "metadata": {
        "id": "-ng0iY--ruKM"
      }
    },
    {
      "cell_type": "code",
      "source": [
        "# do pacote pyspark e seu subpacote sql, importamos o módulo functions\n",
        "# demos a ele um alias chamado de F\n",
        "from pyspark.sql import functions as F\n",
        "\n",
        "df_cars.groupBy(\"Cilindros\").agg(F.count(\"*\")).show()"
      ],
      "metadata": {
        "colab": {
          "base_uri": "https://localhost:8080/"
        },
        "id": "kme0MG-brtKO",
        "outputId": "c40fa7e4-80c7-4330-b26c-2e45c5e8022e"
      },
      "execution_count": 32,
      "outputs": [
        {
          "output_type": "stream",
          "name": "stdout",
          "text": [
            "+---------+--------+\n",
            "|Cilindros|count(1)|\n",
            "+---------+--------+\n",
            "|        6|       7|\n",
            "|        4|      11|\n",
            "|        8|      14|\n",
            "+---------+--------+\n",
            "\n"
          ]
        }
      ]
    },
    {
      "cell_type": "markdown",
      "source": [
        "## Como  faço alias de coluna?"
      ],
      "metadata": {
        "id": "A4Ke1yUlr8cD"
      }
    },
    {
      "cell_type": "code",
      "source": [
        "from pyspark.sql import functions as F\n",
        "\n",
        "df_cars.groupBy(\"Cilindros\").agg(F.count(\"*\").alias(\"Quantidade\")).show()"
      ],
      "metadata": {
        "colab": {
          "base_uri": "https://localhost:8080/"
        },
        "id": "N6BKIZ9Nr6yR",
        "outputId": "28c6d576-1f47-4a50-f9a7-b70314b4e461"
      },
      "execution_count": 33,
      "outputs": [
        {
          "output_type": "stream",
          "name": "stdout",
          "text": [
            "+---------+----------+\n",
            "|Cilindros|Quantidade|\n",
            "+---------+----------+\n",
            "|        6|         7|\n",
            "|        4|        11|\n",
            "|        8|        14|\n",
            "+---------+----------+\n",
            "\n"
          ]
        }
      ]
    },
    {
      "cell_type": "markdown",
      "source": [
        "## O código ficou grande!! Como deixo mais elegante?"
      ],
      "metadata": {
        "id": "GX9A2ydcsHIl"
      }
    },
    {
      "cell_type": "code",
      "source": [
        "from pyspark.sql import functions as F\n",
        "\n",
        "(\n",
        "           df_cars\n",
        "                            .groupBy(\"Cilindros\")\n",
        "                            .agg(F.count(\"*\")\n",
        "                            .alias(\"Quantidade\"))\n",
        "                            .show()\n",
        ")\n",
        "\n"
      ],
      "metadata": {
        "colab": {
          "base_uri": "https://localhost:8080/"
        },
        "id": "yR-z2_2LsEHS",
        "outputId": "bdfe8efb-b17e-44f0-8e30-e231ea31d474"
      },
      "execution_count": 34,
      "outputs": [
        {
          "output_type": "stream",
          "name": "stdout",
          "text": [
            "+---------+----------+\n",
            "|Cilindros|Quantidade|\n",
            "+---------+----------+\n",
            "|        6|         7|\n",
            "|        4|        11|\n",
            "|        8|        14|\n",
            "+---------+----------+\n",
            "\n"
          ]
        }
      ]
    },
    {
      "cell_type": "markdown",
      "source": [
        "## Como crio uma coluna nova?"
      ],
      "metadata": {
        "id": "gn1-pAyysM9u"
      }
    },
    {
      "cell_type": "code",
      "source": [
        "from pyspark.sql import functions as F\n",
        "\n",
        "(\n",
        "           df_cars\n",
        "                            .groupBy(\"Cilindros\")\n",
        "                            .agg(F.count(\"*\")\n",
        "                            .alias(\"Quantidade\"))\n",
        "                            .select(\n",
        "                                              F.lit(\"Carros\").alias(\"Categoria\"),\n",
        "                                              \"*\"\n",
        "                                           )\n",
        "                            .show()\n",
        ")\n",
        "\n"
      ],
      "metadata": {
        "colab": {
          "base_uri": "https://localhost:8080/"
        },
        "id": "a8Xa9051sLKO",
        "outputId": "794ecd71-6bd8-417b-89a8-a01092c80e55"
      },
      "execution_count": 35,
      "outputs": [
        {
          "output_type": "stream",
          "name": "stdout",
          "text": [
            "+---------+---------+----------+\n",
            "|Categoria|Cilindros|Quantidade|\n",
            "+---------+---------+----------+\n",
            "|   Carros|        6|         7|\n",
            "|   Carros|        4|        11|\n",
            "|   Carros|        8|        14|\n",
            "+---------+---------+----------+\n",
            "\n"
          ]
        }
      ]
    },
    {
      "cell_type": "markdown",
      "source": [
        "## Como crio uma coluna nova e especifico algumas outras?"
      ],
      "metadata": {
        "id": "GAFKEuxPsUlJ"
      }
    },
    {
      "cell_type": "code",
      "source": [
        "from pyspark.sql import functions as F\n",
        "\n",
        "(\n",
        "           df_cars\n",
        "                            .groupBy(\"Cilindros\")\n",
        "                            .agg(F.count(\"*\")\n",
        "                            .alias(\"Quantidade\"))\n",
        "                            .select(\n",
        "                                              F.lit(\"Carros\").alias(\"Categoria\"),\n",
        "                                              F.col(\"Cilindros\"),\n",
        "                                              F.col(\"Quantidade\")\n",
        "                                           )\n",
        "                            .show()\n",
        ")\n",
        "\n"
      ],
      "metadata": {
        "colab": {
          "base_uri": "https://localhost:8080/"
        },
        "id": "Lt0QFAl0sTpV",
        "outputId": "3868cb64-89c9-4c9f-c3ed-d6780c39645d"
      },
      "execution_count": 36,
      "outputs": [
        {
          "output_type": "stream",
          "name": "stdout",
          "text": [
            "+---------+---------+----------+\n",
            "|Categoria|Cilindros|Quantidade|\n",
            "+---------+---------+----------+\n",
            "|   Carros|        6|         7|\n",
            "|   Carros|        4|        11|\n",
            "|   Carros|        8|        14|\n",
            "+---------+---------+----------+\n",
            "\n"
          ]
        }
      ]
    },
    {
      "cell_type": "markdown",
      "source": [
        "## É possível efetuar somas?"
      ],
      "metadata": {
        "id": "aGXh7iansb83"
      }
    },
    {
      "cell_type": "code",
      "source": [
        "from pyspark.sql import functions as F\n",
        "\n",
        "(\n",
        " df_cars\n",
        "                  .groupBy(\"TipoMotor\")\n",
        "                  .agg(F.sum(\"Peso\").alias(\"Peso_Total\"))\n",
        "                  .select(\n",
        "                                    F.lit(\"Carros\").alias(\"Categoria\"),\n",
        "                                    F.col(\"TipoMotor\"),\n",
        "                                    F.col(\"Peso_Total\")\n",
        "                                 )\n",
        "                   .show()\n",
        ")\n",
        "\n",
        "\n"
      ],
      "metadata": {
        "colab": {
          "base_uri": "https://localhost:8080/"
        },
        "id": "IwIgLuM6saKi",
        "outputId": "c427ebcf-8dee-4d97-f5e2-4d114ebffd7a"
      },
      "execution_count": 37,
      "outputs": [
        {
          "output_type": "stream",
          "name": "stdout",
          "text": [
            "+---------+---------+----------+\n",
            "|Categoria|TipoMotor|Peso_Total|\n",
            "+---------+---------+----------+\n",
            "|   Carros|        1|     14778|\n",
            "|   Carros|        0|     25471|\n",
            "+---------+---------+----------+\n",
            "\n"
          ]
        }
      ]
    },
    {
      "cell_type": "markdown",
      "source": [
        "## É possível tirar a média?"
      ],
      "metadata": {
        "id": "euZnPE03sjkN"
      }
    },
    {
      "cell_type": "code",
      "source": [
        "from pyspark.sql import functions as F\n",
        "\n",
        "(\n",
        " df_cars\n",
        "                  .groupBy(\"TipoMotor\")\n",
        "                  .agg(F.avg(\"Cilindradas\").alias(\"Cilindradas_Avg\"))\n",
        "                  .select(\n",
        "                                    F.lit(\"Carros\").alias(\"Categoria\"),\n",
        "                                    F.col(\"TipoMotor\"),\n",
        "                                    F.col(\"Cilindradas_Avg\")\n",
        "                                 )\n",
        "                   .show()\n",
        ")\n",
        "\n",
        "\n"
      ],
      "metadata": {
        "colab": {
          "base_uri": "https://localhost:8080/"
        },
        "id": "xyZ9sXYtsiNO",
        "outputId": "c27928f5-8e79-4d74-c28a-5e8ad2e44ed2"
      },
      "execution_count": 38,
      "outputs": [
        {
          "output_type": "stream",
          "name": "stdout",
          "text": [
            "+---------+---------+-----------------+\n",
            "|Categoria|TipoMotor|  Cilindradas_Avg|\n",
            "+---------+---------+-----------------+\n",
            "|   Carros|        1|816.0714285714286|\n",
            "|   Carros|        0|            781.0|\n",
            "+---------+---------+-----------------+\n",
            "\n"
          ]
        }
      ]
    },
    {
      "cell_type": "markdown",
      "source": [
        "## Cilindradas_Avg ficou float, como resolvo?"
      ],
      "metadata": {
        "id": "VUyJXQMvss7_"
      }
    },
    {
      "cell_type": "code",
      "source": [
        "from pyspark.sql import functions as F\n",
        "from pyspark.sql.types import IntegerType\n",
        "\n",
        "(\n",
        " df_cars\n",
        "                  .groupBy(\"TipoMotor\")\n",
        "                  .agg(\n",
        "                                F.avg(\"Cilindradas\").cast(IntegerType()\n",
        "                            ).alias(\"Cilindradas_Avg\"))\n",
        "                  .select(\n",
        "                                    F.lit(\"Carros\").alias(\"Categoria\"),\n",
        "                                    F.col(\"TipoMotor\"),\n",
        "                                    F.col(\"Cilindradas_Avg\")\n",
        "                                 )\n",
        "                   .show()\n",
        ")\n",
        "\n",
        "\n"
      ],
      "metadata": {
        "colab": {
          "base_uri": "https://localhost:8080/"
        },
        "id": "ctAAKriBsrPr",
        "outputId": "813deed1-6dab-4a48-9972-4b01456934ab"
      },
      "execution_count": 39,
      "outputs": [
        {
          "output_type": "stream",
          "name": "stdout",
          "text": [
            "+---------+---------+---------------+\n",
            "|Categoria|TipoMotor|Cilindradas_Avg|\n",
            "+---------+---------+---------------+\n",
            "|   Carros|        1|            816|\n",
            "|   Carros|        0|            781|\n",
            "+---------+---------+---------------+\n",
            "\n"
          ]
        }
      ]
    },
    {
      "cell_type": "markdown",
      "source": [
        "## Como posso filtrar com where?"
      ],
      "metadata": {
        "id": "l2rvaxdas2Su"
      }
    },
    {
      "cell_type": "code",
      "source": [
        "from pyspark.sql import functions as F\n",
        "\n",
        "# modo 1\n",
        "df_cars.where(F.col(\"TipoMotor\") == 1).select(\"*\").show()\n",
        "# modo 2\n",
        "df_cars.where(df_cars[\"TipoMotor\"] == 1).select(\"*\").show()\n",
        "# modo 3\n",
        "df_cars.where(df_cars.TipoMotor == 1).select(\"*\").show()"
      ],
      "metadata": {
        "colab": {
          "base_uri": "https://localhost:8080/"
        },
        "id": "nHHpOAJEsyS3",
        "outputId": "4d2d786a-075c-4cac-b075-1d3afdc40816"
      },
      "execution_count": 40,
      "outputs": [
        {
          "output_type": "stream",
          "name": "stdout",
          "text": [
            "+-------+---------+-----------+---------------+----+-----+---------+-----------+-------+-----------+---+\n",
            "|Consumo|Cilindros|Cilindradas|RelEixoTraseiro|Peso|Tempo|TipoMotor|Transmissao|Marchas|Carburadors| HP|\n",
            "+-------+---------+-----------+---------------+----+-----+---------+-----------+-------+-----------+---+\n",
            "|    228|        4|        108|            385| 232| 1861|        1|          1|      4|          1| 93|\n",
            "|    214|        6|        258|            308|3215| 1944|        1|          0|      3|          1|110|\n",
            "|    181|        6|        225|            276| 346| 2022|        1|          0|      3|          1|105|\n",
            "|    244|        4|       1467|            369| 319|   20|        1|          0|      4|          2| 62|\n",
            "|    228|        4|       1408|            392| 315|  229|        1|          0|      4|          2| 95|\n",
            "|    192|        6|       1676|            392| 344|  183|        1|          0|      4|          4|123|\n",
            "|    178|        6|       1676|            392| 344|  189|        1|          0|      4|          4|123|\n",
            "|    324|        4|        787|            408|  22| 1947|        1|          1|      4|          1| 66|\n",
            "|    304|        4|        757|            493|1615| 1852|        1|          1|      4|          2| 52|\n",
            "|    339|        4|        711|            422|1835|  199|        1|          1|      4|          1| 65|\n",
            "|    215|        4|       1201|             37|2465| 2001|        1|          0|      3|          1| 97|\n",
            "|    273|        4|         79|            408|1935|  189|        1|          1|      4|          1| 66|\n",
            "|    304|        4|        951|            377|1513|  169|        1|          1|      5|          2|113|\n",
            "|    214|        4|        121|            411| 278|  186|        1|          1|      4|          2|109|\n",
            "+-------+---------+-----------+---------------+----+-----+---------+-----------+-------+-----------+---+\n",
            "\n",
            "+-------+---------+-----------+---------------+----+-----+---------+-----------+-------+-----------+---+\n",
            "|Consumo|Cilindros|Cilindradas|RelEixoTraseiro|Peso|Tempo|TipoMotor|Transmissao|Marchas|Carburadors| HP|\n",
            "+-------+---------+-----------+---------------+----+-----+---------+-----------+-------+-----------+---+\n",
            "|    228|        4|        108|            385| 232| 1861|        1|          1|      4|          1| 93|\n",
            "|    214|        6|        258|            308|3215| 1944|        1|          0|      3|          1|110|\n",
            "|    181|        6|        225|            276| 346| 2022|        1|          0|      3|          1|105|\n",
            "|    244|        4|       1467|            369| 319|   20|        1|          0|      4|          2| 62|\n",
            "|    228|        4|       1408|            392| 315|  229|        1|          0|      4|          2| 95|\n",
            "|    192|        6|       1676|            392| 344|  183|        1|          0|      4|          4|123|\n",
            "|    178|        6|       1676|            392| 344|  189|        1|          0|      4|          4|123|\n",
            "|    324|        4|        787|            408|  22| 1947|        1|          1|      4|          1| 66|\n",
            "|    304|        4|        757|            493|1615| 1852|        1|          1|      4|          2| 52|\n",
            "|    339|        4|        711|            422|1835|  199|        1|          1|      4|          1| 65|\n",
            "|    215|        4|       1201|             37|2465| 2001|        1|          0|      3|          1| 97|\n",
            "|    273|        4|         79|            408|1935|  189|        1|          1|      4|          1| 66|\n",
            "|    304|        4|        951|            377|1513|  169|        1|          1|      5|          2|113|\n",
            "|    214|        4|        121|            411| 278|  186|        1|          1|      4|          2|109|\n",
            "+-------+---------+-----------+---------------+----+-----+---------+-----------+-------+-----------+---+\n",
            "\n",
            "+-------+---------+-----------+---------------+----+-----+---------+-----------+-------+-----------+---+\n",
            "|Consumo|Cilindros|Cilindradas|RelEixoTraseiro|Peso|Tempo|TipoMotor|Transmissao|Marchas|Carburadors| HP|\n",
            "+-------+---------+-----------+---------------+----+-----+---------+-----------+-------+-----------+---+\n",
            "|    228|        4|        108|            385| 232| 1861|        1|          1|      4|          1| 93|\n",
            "|    214|        6|        258|            308|3215| 1944|        1|          0|      3|          1|110|\n",
            "|    181|        6|        225|            276| 346| 2022|        1|          0|      3|          1|105|\n",
            "|    244|        4|       1467|            369| 319|   20|        1|          0|      4|          2| 62|\n",
            "|    228|        4|       1408|            392| 315|  229|        1|          0|      4|          2| 95|\n",
            "|    192|        6|       1676|            392| 344|  183|        1|          0|      4|          4|123|\n",
            "|    178|        6|       1676|            392| 344|  189|        1|          0|      4|          4|123|\n",
            "|    324|        4|        787|            408|  22| 1947|        1|          1|      4|          1| 66|\n",
            "|    304|        4|        757|            493|1615| 1852|        1|          1|      4|          2| 52|\n",
            "|    339|        4|        711|            422|1835|  199|        1|          1|      4|          1| 65|\n",
            "|    215|        4|       1201|             37|2465| 2001|        1|          0|      3|          1| 97|\n",
            "|    273|        4|         79|            408|1935|  189|        1|          1|      4|          1| 66|\n",
            "|    304|        4|        951|            377|1513|  169|        1|          1|      5|          2|113|\n",
            "|    214|        4|        121|            411| 278|  186|        1|          1|      4|          2|109|\n",
            "+-------+---------+-----------+---------------+----+-----+---------+-----------+-------+-----------+---+\n",
            "\n"
          ]
        }
      ]
    },
    {
      "cell_type": "markdown",
      "source": [
        "## Como posso filtrar com filter?"
      ],
      "metadata": {
        "id": "JAShb_xis9NY"
      }
    },
    {
      "cell_type": "code",
      "source": [
        "from pyspark.sql import functions as F\n",
        "\n",
        "# modo 1\n",
        "df_cars.filter(F.col(\"TipoMotor\") == 1).select(\"*\").show()\n",
        "# modo 2\n",
        "df_cars.filter(df_cars[\"TipoMotor\"] == 1).select(\"*\").show()\n",
        "# modo 3\n",
        "df_cars.filter(df_cars.TipoMotor == 1).select(\"*\").show()"
      ],
      "metadata": {
        "colab": {
          "base_uri": "https://localhost:8080/"
        },
        "id": "6iuwNsJas661",
        "outputId": "0e8e82e6-38c9-44e6-97da-3a4e8504d53b"
      },
      "execution_count": 41,
      "outputs": [
        {
          "output_type": "stream",
          "name": "stdout",
          "text": [
            "+-------+---------+-----------+---------------+----+-----+---------+-----------+-------+-----------+---+\n",
            "|Consumo|Cilindros|Cilindradas|RelEixoTraseiro|Peso|Tempo|TipoMotor|Transmissao|Marchas|Carburadors| HP|\n",
            "+-------+---------+-----------+---------------+----+-----+---------+-----------+-------+-----------+---+\n",
            "|    228|        4|        108|            385| 232| 1861|        1|          1|      4|          1| 93|\n",
            "|    214|        6|        258|            308|3215| 1944|        1|          0|      3|          1|110|\n",
            "|    181|        6|        225|            276| 346| 2022|        1|          0|      3|          1|105|\n",
            "|    244|        4|       1467|            369| 319|   20|        1|          0|      4|          2| 62|\n",
            "|    228|        4|       1408|            392| 315|  229|        1|          0|      4|          2| 95|\n",
            "|    192|        6|       1676|            392| 344|  183|        1|          0|      4|          4|123|\n",
            "|    178|        6|       1676|            392| 344|  189|        1|          0|      4|          4|123|\n",
            "|    324|        4|        787|            408|  22| 1947|        1|          1|      4|          1| 66|\n",
            "|    304|        4|        757|            493|1615| 1852|        1|          1|      4|          2| 52|\n",
            "|    339|        4|        711|            422|1835|  199|        1|          1|      4|          1| 65|\n",
            "|    215|        4|       1201|             37|2465| 2001|        1|          0|      3|          1| 97|\n",
            "|    273|        4|         79|            408|1935|  189|        1|          1|      4|          1| 66|\n",
            "|    304|        4|        951|            377|1513|  169|        1|          1|      5|          2|113|\n",
            "|    214|        4|        121|            411| 278|  186|        1|          1|      4|          2|109|\n",
            "+-------+---------+-----------+---------------+----+-----+---------+-----------+-------+-----------+---+\n",
            "\n",
            "+-------+---------+-----------+---------------+----+-----+---------+-----------+-------+-----------+---+\n",
            "|Consumo|Cilindros|Cilindradas|RelEixoTraseiro|Peso|Tempo|TipoMotor|Transmissao|Marchas|Carburadors| HP|\n",
            "+-------+---------+-----------+---------------+----+-----+---------+-----------+-------+-----------+---+\n",
            "|    228|        4|        108|            385| 232| 1861|        1|          1|      4|          1| 93|\n",
            "|    214|        6|        258|            308|3215| 1944|        1|          0|      3|          1|110|\n",
            "|    181|        6|        225|            276| 346| 2022|        1|          0|      3|          1|105|\n",
            "|    244|        4|       1467|            369| 319|   20|        1|          0|      4|          2| 62|\n",
            "|    228|        4|       1408|            392| 315|  229|        1|          0|      4|          2| 95|\n",
            "|    192|        6|       1676|            392| 344|  183|        1|          0|      4|          4|123|\n",
            "|    178|        6|       1676|            392| 344|  189|        1|          0|      4|          4|123|\n",
            "|    324|        4|        787|            408|  22| 1947|        1|          1|      4|          1| 66|\n",
            "|    304|        4|        757|            493|1615| 1852|        1|          1|      4|          2| 52|\n",
            "|    339|        4|        711|            422|1835|  199|        1|          1|      4|          1| 65|\n",
            "|    215|        4|       1201|             37|2465| 2001|        1|          0|      3|          1| 97|\n",
            "|    273|        4|         79|            408|1935|  189|        1|          1|      4|          1| 66|\n",
            "|    304|        4|        951|            377|1513|  169|        1|          1|      5|          2|113|\n",
            "|    214|        4|        121|            411| 278|  186|        1|          1|      4|          2|109|\n",
            "+-------+---------+-----------+---------------+----+-----+---------+-----------+-------+-----------+---+\n",
            "\n",
            "+-------+---------+-----------+---------------+----+-----+---------+-----------+-------+-----------+---+\n",
            "|Consumo|Cilindros|Cilindradas|RelEixoTraseiro|Peso|Tempo|TipoMotor|Transmissao|Marchas|Carburadors| HP|\n",
            "+-------+---------+-----------+---------------+----+-----+---------+-----------+-------+-----------+---+\n",
            "|    228|        4|        108|            385| 232| 1861|        1|          1|      4|          1| 93|\n",
            "|    214|        6|        258|            308|3215| 1944|        1|          0|      3|          1|110|\n",
            "|    181|        6|        225|            276| 346| 2022|        1|          0|      3|          1|105|\n",
            "|    244|        4|       1467|            369| 319|   20|        1|          0|      4|          2| 62|\n",
            "|    228|        4|       1408|            392| 315|  229|        1|          0|      4|          2| 95|\n",
            "|    192|        6|       1676|            392| 344|  183|        1|          0|      4|          4|123|\n",
            "|    178|        6|       1676|            392| 344|  189|        1|          0|      4|          4|123|\n",
            "|    324|        4|        787|            408|  22| 1947|        1|          1|      4|          1| 66|\n",
            "|    304|        4|        757|            493|1615| 1852|        1|          1|      4|          2| 52|\n",
            "|    339|        4|        711|            422|1835|  199|        1|          1|      4|          1| 65|\n",
            "|    215|        4|       1201|             37|2465| 2001|        1|          0|      3|          1| 97|\n",
            "|    273|        4|         79|            408|1935|  189|        1|          1|      4|          1| 66|\n",
            "|    304|        4|        951|            377|1513|  169|        1|          1|      5|          2|113|\n",
            "|    214|        4|        121|            411| 278|  186|        1|          1|      4|          2|109|\n",
            "+-------+---------+-----------+---------------+----+-----+---------+-----------+-------+-----------+---+\n",
            "\n"
          ]
        }
      ]
    }
  ]
}